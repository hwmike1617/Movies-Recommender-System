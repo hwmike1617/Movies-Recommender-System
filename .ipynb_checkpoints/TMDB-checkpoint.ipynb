{
 "cells": [
  {
   "cell_type": "code",
   "execution_count": 5,
   "id": "8d63057a-25f7-44e5-9b15-6817cbd83303",
   "metadata": {},
   "outputs": [],
   "source": [
    "import pandas as pd\n",
    "import numpy as np\n",
    "import seaborn as sns\n",
    "import matplotlib \n",
    "import matplotlib.pyplot as plt\n",
    "import plotly.express as px\n",
    "import plotly.graph_objs as go\n",
    "import warnings\n",
    "from textblob import TextBlob\n",
    "from wordcloud import WordCloud\n",
    "warnings.filterwarnings('ignore')\n",
    "\n",
    "from sklearn.feature_extraction.text import TfidfVectorizer\n",
    "from sklearn.metrics.pairwise import cosine_similarity"
   ]
  },
  {
   "cell_type": "code",
   "execution_count": 8,
   "id": "9875ca9d-12d9-4b8c-a5d7-7a451807bb3c",
   "metadata": {},
   "outputs": [
    {
     "data": {
      "text/html": [
       "<div>\n",
       "<style scoped>\n",
       "    .dataframe tbody tr th:only-of-type {\n",
       "        vertical-align: middle;\n",
       "    }\n",
       "\n",
       "    .dataframe tbody tr th {\n",
       "        vertical-align: top;\n",
       "    }\n",
       "\n",
       "    .dataframe thead th {\n",
       "        text-align: right;\n",
       "    }\n",
       "</style>\n",
       "<table border=\"1\" class=\"dataframe\">\n",
       "  <thead>\n",
       "    <tr style=\"text-align: right;\">\n",
       "      <th></th>\n",
       "      <th>title</th>\n",
       "      <th>overview</th>\n",
       "      <th>original_language</th>\n",
       "      <th>vote_count</th>\n",
       "      <th>vote_average</th>\n",
       "    </tr>\n",
       "  </thead>\n",
       "  <tbody>\n",
       "    <tr>\n",
       "      <th>0</th>\n",
       "      <td>Ad Astra</td>\n",
       "      <td>The near future, a time when both hope and har...</td>\n",
       "      <td>en</td>\n",
       "      <td>2853</td>\n",
       "      <td>5.9</td>\n",
       "    </tr>\n",
       "    <tr>\n",
       "      <th>1</th>\n",
       "      <td>Bloodshot</td>\n",
       "      <td>After he and his wife are murdered, marine Ray...</td>\n",
       "      <td>en</td>\n",
       "      <td>1349</td>\n",
       "      <td>7.2</td>\n",
       "    </tr>\n",
       "    <tr>\n",
       "      <th>2</th>\n",
       "      <td>Bad Boys for Life</td>\n",
       "      <td>Marcus and Mike are forced to confront new thr...</td>\n",
       "      <td>en</td>\n",
       "      <td>2530</td>\n",
       "      <td>7.1</td>\n",
       "    </tr>\n",
       "    <tr>\n",
       "      <th>3</th>\n",
       "      <td>Ant-Man</td>\n",
       "      <td>Armed with the astonishing ability to shrink i...</td>\n",
       "      <td>en</td>\n",
       "      <td>13611</td>\n",
       "      <td>7.1</td>\n",
       "    </tr>\n",
       "    <tr>\n",
       "      <th>4</th>\n",
       "      <td>Percy Jackson: Sea of Monsters</td>\n",
       "      <td>In their quest to confront the ultimate evil, ...</td>\n",
       "      <td>en</td>\n",
       "      <td>3542</td>\n",
       "      <td>5.9</td>\n",
       "    </tr>\n",
       "  </tbody>\n",
       "</table>\n",
       "</div>"
      ],
      "text/plain": [
       "                            title  \\\n",
       "0                        Ad Astra   \n",
       "1                       Bloodshot   \n",
       "2               Bad Boys for Life   \n",
       "3                         Ant-Man   \n",
       "4  Percy Jackson: Sea of Monsters   \n",
       "\n",
       "                                            overview original_language  \\\n",
       "0  The near future, a time when both hope and har...                en   \n",
       "1  After he and his wife are murdered, marine Ray...                en   \n",
       "2  Marcus and Mike are forced to confront new thr...                en   \n",
       "3  Armed with the astonishing ability to shrink i...                en   \n",
       "4  In their quest to confront the ultimate evil, ...                en   \n",
       "\n",
       "   vote_count  vote_average  \n",
       "0        2853           5.9  \n",
       "1        1349           7.2  \n",
       "2        2530           7.1  \n",
       "3       13611           7.1  \n",
       "4        3542           5.9  "
      ]
     },
     "execution_count": 8,
     "metadata": {},
     "output_type": "execute_result"
    }
   ],
   "source": [
    "movies=pd.read_csv('./data/movies.csv', index_col=0)\n",
    "movies.head()"
   ]
  },
  {
   "cell_type": "code",
   "execution_count": 9,
   "id": "29de87ae-f7b1-4e32-aec4-e205d89e8f0b",
   "metadata": {},
   "outputs": [
    {
     "data": {
      "text/plain": [
       "title                 0\n",
       "overview             30\n",
       "original_language     0\n",
       "vote_count            0\n",
       "vote_average          0\n",
       "dtype: int64"
      ]
     },
     "execution_count": 9,
     "metadata": {},
     "output_type": "execute_result"
    }
   ],
   "source": [
    "movies.isnull().sum()"
   ]
  },
  {
   "cell_type": "code",
   "execution_count": 10,
   "id": "6e897e63-8f3f-46db-821e-cc7516530345",
   "metadata": {},
   "outputs": [
    {
     "name": "stdout",
     "output_type": "stream",
     "text": [
      "<class 'pandas.core.frame.DataFrame'>\n",
      "Int64Index: 10000 entries, 0 to 9999\n",
      "Data columns (total 5 columns):\n",
      " #   Column             Non-Null Count  Dtype  \n",
      "---  ------             --------------  -----  \n",
      " 0   title              10000 non-null  object \n",
      " 1   overview           9970 non-null   object \n",
      " 2   original_language  10000 non-null  object \n",
      " 3   vote_count         10000 non-null  int64  \n",
      " 4   vote_average       10000 non-null  float64\n",
      "dtypes: float64(1), int64(1), object(3)\n",
      "memory usage: 468.8+ KB\n"
     ]
    }
   ],
   "source": [
    "movies.info()"
   ]
  },
  {
   "cell_type": "code",
   "execution_count": 15,
   "id": "4735bf98-5904-4e51-b970-8e834276abd9",
   "metadata": {},
   "outputs": [],
   "source": [
    "movies.dropna(inplace=True)"
   ]
  },
  {
   "cell_type": "code",
   "execution_count": 16,
   "id": "40dd6ad4-faa1-42da-ace3-6897f9297f8c",
   "metadata": {},
   "outputs": [
    {
     "data": {
      "text/plain": [
       "title                0\n",
       "overview             0\n",
       "original_language    0\n",
       "vote_count           0\n",
       "vote_average         0\n",
       "dtype: int64"
      ]
     },
     "execution_count": 16,
     "metadata": {},
     "output_type": "execute_result"
    }
   ],
   "source": [
    "movies.isnull().sum()"
   ]
  },
  {
   "cell_type": "code",
   "execution_count": 17,
   "id": "e3238add-5e0b-4a22-b137-2a5eccb4fa41",
   "metadata": {},
   "outputs": [
    {
     "name": "stdout",
     "output_type": "stream",
     "text": [
      "<class 'pandas.core.frame.DataFrame'>\n",
      "Int64Index: 9970 entries, 0 to 9999\n",
      "Data columns (total 5 columns):\n",
      " #   Column             Non-Null Count  Dtype  \n",
      "---  ------             --------------  -----  \n",
      " 0   title              9970 non-null   object \n",
      " 1   overview           9970 non-null   object \n",
      " 2   original_language  9970 non-null   object \n",
      " 3   vote_count         9970 non-null   int64  \n",
      " 4   vote_average       9970 non-null   float64\n",
      "dtypes: float64(1), int64(1), object(3)\n",
      "memory usage: 467.3+ KB\n"
     ]
    }
   ],
   "source": [
    "movies.info()"
   ]
  },
  {
   "cell_type": "code",
   "execution_count": null,
   "id": "27a8d286-9b85-46f4-a706-808ec9268ec2",
   "metadata": {},
   "outputs": [],
   "source": [
    "# Content-Based Filtering (using movie overviews)\n",
    "tfidf_vectorizer = TfidfVectorizer(stop_words='english')\n",
    "tfidf_matrix = tfidf_vectorizer.fit_transform(movie_data['overview'].fillna(''))\n",
    "cosine_sim_content = cosine_similarity(tfidf_matrix, tfidf_matrix)\n",
    "\n",
    "# Collaborative Filtering (using movie-item ratings)\n",
    "item_item_matrix = movie_data.pivot(index='movie_id', columns='movie_id', values='rating')\n",
    "cosine_sim_collaborative = cosine_similarity(item_item_matrix.fillna(0))"
   ]
  },
  {
   "cell_type": "code",
   "execution_count": null,
   "id": "b1b3578b-397b-4922-a45b-9b5db173e93d",
   "metadata": {},
   "outputs": [],
   "source": [
    "# Content-Enhanced Recommender Function\n",
    "def content_enhanced_recommender(movie_title, movie_data, cosine_sim_content, cosine_sim_collaborative):\n",
    "    target_movie_index = movie_data.index[movie_data['title'] == movie_title].tolist()[0]\n",
    "    \n",
    "    # Get content-based similarity scores for the target movie\n",
    "    content_scores = cosine_sim_content[target_movie_index]\n",
    "\n",
    "    # Get collaborative similarity scores for movies similar to the target movie based on ratings\n",
    "    collaborative_scores = cosine_sim_collaborative[target_movie_index]\n",
    "\n",
    "    # Combine content-based and collaborative scores\n",
    "    hybrid_scores = 0.6 * content_scores + 0.4 * collaborative_scores\n",
    "\n",
    "    # Sort movies based on hybrid scores and get top recommendations\n",
    "    recommendations = movie_data['title'].iloc[hybrid_scores.argsort()[::-1]]\n",
    "    return recommendations"
   ]
  },
  {
   "cell_type": "code",
   "execution_count": null,
   "id": "ff2325bc-d43e-42a1-b428-a90550369d01",
   "metadata": {},
   "outputs": [],
   "source": [
    "# Example target movie (you should replace this with the actual movie title)\n",
    "target_movie_title = 'The Dark Knight'\n",
    "recommended_movies = content_enhanced_recommender(target_movie_title, movie_data, cosine_sim_content, cosine_sim_collaborative)\n",
    "print(recommended_movies)"
   ]
  }
 ],
 "metadata": {
  "kernelspec": {
   "display_name": "Python [conda env:dsi-sg]",
   "language": "python",
   "name": "conda-env-dsi-sg-py"
  },
  "language_info": {
   "codemirror_mode": {
    "name": "ipython",
    "version": 3
   },
   "file_extension": ".py",
   "mimetype": "text/x-python",
   "name": "python",
   "nbconvert_exporter": "python",
   "pygments_lexer": "ipython3",
   "version": "3.10.11"
  }
 },
 "nbformat": 4,
 "nbformat_minor": 5
}
